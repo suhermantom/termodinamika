{
 "cells": [
  {
   "cell_type": "code",
   "execution_count": 1,
   "metadata": {
    "colab": {
     "base_uri": "https://localhost:8080/",
     "height": 34
    },
    "colab_type": "code",
    "executionInfo": {
     "elapsed": 572,
     "status": "ok",
     "timestamp": 1599013232815,
     "user": {
      "displayName": "Mukhamad Suhermanto, S.Pd, M.Eng",
      "photoUrl": "",
      "userId": "00966700570926337399"
     },
     "user_tz": 240
    },
    "id": "QMK_KOtBJscA",
    "outputId": "8b8f131f-4b90-42ac-ec16-a37aa129290a"
   },
   "outputs": [
    {
     "name": "stdout",
     "output_type": "stream",
     "text": [
      "Perbedaan tekanan pada P3-P1 adalah 780080.000000 Pa\n"
     ]
    }
   ],
   "source": [
    "# Diketahui\n",
    "h_1=6 #tinggi Hg-Minyak, m\n",
    "h_2=2 #tinggi air-Hg, m\n",
    "SG_Hg = 13.6 #Specific Gravity/Densitas Relatif\n",
    "omega_H2O= 9800 #berat spesifik air, N/m^3\n",
    "omega_Hg= SG_Hg * omega_H2O\n",
    "\n",
    "#Ditanya: Perbedaan Tekanan pada P3-P1\n",
    "#Jawab:\n",
    "#deltaP adalah perbedaan tekanan pada P3-P1\n",
    "deltaP=omega_Hg*h_1 - omega_H2O*h_2 \n",
    "\n",
    "print('Perbedaan tekanan pada P3-P1 adalah %f Pa'%deltaP)"
   ]
  },
  {
   "cell_type": "code",
   "execution_count": 2,
   "metadata": {
    "colab": {
     "base_uri": "https://localhost:8080/",
     "height": 173
    },
    "colab_type": "code",
    "executionInfo": {
     "elapsed": 582,
     "status": "ok",
     "timestamp": 1599013363368,
     "user": {
      "displayName": "Mukhamad Suhermanto, S.Pd, M.Eng",
      "photoUrl": "",
      "userId": "00966700570926337399"
     },
     "user_tz": 240
    },
    "id": "AP0fT0nEK7wX",
    "outputId": "1a096f6c-7297-4ab7-f81d-bfca250e48f2"
   },
   "outputs": [
    {
     "name": "stdout",
     "output_type": "stream",
     "text": [
      "Kualitas (x) pada temperatur 40 C adalah 0.153645\n",
      "Dengan melihat Tabel Saturated H2O pada suhu 40 C, Tekanan Saturasinya adalah 0.007383 MPa\n",
      "===================================================\n",
      "Hasil Interpolasi linear\n",
      "volume spesifik likuid (vf @86 C) pada suhu 86 C adalah 0.001033 m^3/kg\n",
      "volume spesifik gas (vg @86 C) pada suhu 86 C adalah 2.734600 m^3/kg\n",
      "Kualitas (x) pada temperatur 86 C adalah 1.097089\n",
      "Dengan melihat Tabel Saturated H2O dan melakukan interpolasi linear guna mencari pada suhu 86 C, Tekanan Saturasinya adalah 0.060290 MPa\n"
     ]
    }
   ],
   "source": [
    "#Diketahui:\n",
    "V = 15 # Volume, m^3\n",
    "m_H2O= 5 # massa, kg\n",
    "T_1 = 40 # Temperatur (1), C\n",
    "T_2 = 86 # Temperatur (2), C\n",
    "vf_1 = 0.001008 # Tabel Steam, liquid, pada suhu (1) \n",
    "vg_1 = 19.52 # Tabel Steam, gas, pada suhu (1)\n",
    "\n",
    "#Untuk Interpolasi\n",
    "vf_T85 =0.001032\n",
    "vg_T85 =2.828\n",
    "vf_T90 =0.001036\n",
    "vg_T90 =2.361\n",
    "P_T85=0.05783 #MPa\n",
    "P_T90=0.07013 #MPa\n",
    "\n",
    "vf_2 = ((86-85)*(vf_T90-vf_T85)/(90-85))+vf_T85\n",
    "vg_2 = ((86-85)*(vg_T90-vg_T85)/(90-85))+vg_T85\n",
    "#Dicari: a. kualitas (x) untuk kondisi saturated mixture\n",
    "        # b. tekanan saturasi, Psat_1 dan Psat_2\n",
    "#Jawab:\n",
    "v=V/m_H2O\n",
    "x_1 = (v-vf_1)/(vg_1-vf_1)\n",
    "x_2 = (v-vf_2)/(vg_2-vf_2)\n",
    "P_T86 = ((86-85)*(P_T90-P_T85)/(90-85))+P_T85\n",
    "print('Kualitas (x) pada temperatur 40 C adalah %f'%x_1)\n",
    "print('Dengan melihat Tabel Saturated H2O pada suhu 40 C, Tekanan Saturasinya adalah 0.007383 MPa')\n",
    "print('===================================================')\n",
    "print('Hasil Interpolasi linear')\n",
    "print('volume spesifik likuid (vf @86 C) pada suhu 86 C adalah %f m^3/kg'%vf_2)\n",
    "print('volume spesifik gas (vg @86 C) pada suhu 86 C adalah %f m^3/kg'%vg_2)\n",
    "\n",
    "print('Kualitas (x) pada temperatur 86 C adalah %f'%x_2)\n",
    "print('Dengan melihat Tabel Saturated H2O dan melakukan interpolasi linear guna mencari pada suhu 86 C, Tekanan Saturasinya adalah %f MPa'%P_T86)"
   ]
  }
 ],
 "metadata": {
  "colab": {
   "authorship_tag": "ABX9TyMuEYauqBYMuGNK0s27/Gv9",
   "name": "Latihan Soal.ipynb",
   "provenance": []
  },
  "interpreter": {
   "hash": "57189c29131ad79733cdc51591db28cb486adddf055acefa31d75d87350d3e41"
  },
  "kernelspec": {
   "display_name": "Python 3.8.8 64-bit ('termo': conda)",
   "name": "python3"
  },
  "language_info": {
   "codemirror_mode": {
    "name": "ipython",
    "version": 3
   },
   "file_extension": ".py",
   "mimetype": "text/x-python",
   "name": "python",
   "nbconvert_exporter": "python",
   "pygments_lexer": "ipython3",
   "version": "3.8.8"
  }
 },
 "nbformat": 4,
 "nbformat_minor": 4
}
