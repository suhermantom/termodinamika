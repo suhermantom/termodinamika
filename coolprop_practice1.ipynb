{
 "cells": [
  {
   "cell_type": "code",
   "execution_count": 27,
   "metadata": {},
   "outputs": [],
   "source": [
    "import CoolProp.CoolProp as ct\n",
    "fluid_name = 'water'"
   ]
  },
  {
   "cell_type": "markdown",
   "metadata": {},
   "source": [
    "This work is the modification of the work found here:\n",
    "\n",
    "The question is as shown here:\n",
    "\n",
    "![Finding Work](./img/soal-termo-dasar1.jpg 'Turbin')"
   ]
  },
  {
   "cell_type": "code",
   "execution_count": 28,
   "metadata": {},
   "outputs": [],
   "source": [
    "#conversion required\n",
    "TC2TK = 273      #K\n",
    "ton2Kg = 1000    #kg\n",
    "bar2Pa = 100000  #Pa\n",
    "\n",
    "# Given\n",
    "m_flow = 300*tonToKg #ton/h\n",
    "P1 = 100 * bar2Pa #\n",
    "T1 = 500+TCtoTK #K\n",
    "\n",
    "P2 = 20 * bar2Pa #\n",
    "T2 = 320 + TCtoTK #K"
   ]
  },
  {
   "cell_type": "code",
   "execution_count": 29,
   "metadata": {},
   "outputs": [],
   "source": [
    "#Finding Entalphy\n",
    "\n",
    "H1 = ct.PropsSI('H', 'P', P1, 'T', T1, fluid_name)\n",
    "H2 = ct.PropsSI('H', 'P', P2, 'T', T2, fluid_name)"
   ]
  },
  {
   "cell_type": "code",
   "execution_count": 30,
   "metadata": {},
   "outputs": [],
   "source": [
    "W = m_flow*(H1-H2)"
   ]
  },
  {
   "cell_type": "code",
   "execution_count": 34,
   "metadata": {},
   "outputs": [
    {
     "name": "stdout",
     "output_type": "stream",
     "text": [
      "The entalpy of H1 is 3374739.950 J/kg, or 3374.740 kJ/kg.\n",
      "The entalpy of H2 is 3069763.949 J/kg, or 3069.764 kJ/kg.\n",
      "The work of W is 91492.800 J, or 91.493 kJ.\n"
     ]
    }
   ],
   "source": [
    "print (f'The entalpy of H1 is {H1:.3f} J/kg, or {H1/1000:.3f} kJ/kg.')\n",
    "print (f'The entalpy of H2 is {H2:.3f} J/kg, or {H2/1000:.3f} kJ/kg.')\n",
    "print (f'The work of W is {W:.3f} J, or {W/1000:.3f} kJ.')"
   ]
  },
  {
   "cell_type": "code",
   "execution_count": null,
   "metadata": {},
   "outputs": [],
   "source": []
  }
 ],
 "metadata": {
  "interpreter": {
   "hash": "57189c29131ad79733cdc51591db28cb486adddf055acefa31d75d87350d3e41"
  },
  "kernelspec": {
   "display_name": "Python 3.8.8 64-bit ('termo': conda)",
   "name": "python3"
  },
  "language_info": {
   "codemirror_mode": {
    "name": "ipython",
    "version": 3
   },
   "file_extension": ".py",
   "mimetype": "text/x-python",
   "name": "python",
   "nbconvert_exporter": "python",
   "pygments_lexer": "ipython3",
   "version": "3.8.8"
  },
  "orig_nbformat": 4
 },
 "nbformat": 4,
 "nbformat_minor": 2
}
