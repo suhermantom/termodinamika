{
 "cells": [
  {
   "cell_type": "code",
   "execution_count": 2,
   "id": "5dbc1ca8-a0a8-4186-91b9-ca8c2672f301",
   "metadata": {},
   "outputs": [],
   "source": [
    "from cantera import *\n",
    "from cantera.liquidvapor import *"
   ]
  },
  {
   "cell_type": "code",
   "execution_count": 3,
   "id": "57bc795a-4590-46aa-90fa-ac3b096553f1",
   "metadata": {},
   "outputs": [],
   "source": [
    "def pump(fluid, pfinal, eta):\n",
    "    \"\"\"Adiabatically pump a fluid to pressure pfinal, using\n",
    "    a pump with isentropic efficiency eta.\"\"\"\n",
    "    h0 = fluid.enthalpy_mass()\n",
    "    s0 = fluid.entropy_mass()\n",
    "    fluid.set(S = s0, P = pfinal)\n",
    "    h1s = fluid.enthalpy_mass()\n",
    "    isentropic_work = h1s - h0\n",
    "    actual_work = isentropic_work / eta\n",
    "    h1 = h0 + actual_work\n",
    "    fluid.set(H = h1, P = pfinal)\n",
    "    return actual_work\n"
   ]
  },
  {
   "cell_type": "code",
   "execution_count": 4,
   "id": "0a4a328f-c7f6-4d1c-9bb1-80f04fd2dd75",
   "metadata": {},
   "outputs": [],
   "source": [
    "def expand(fluid, pfinal, eta):\n",
    "    \"\"\"Adiabatically expand a fluid to pressure pfinal, using\n",
    "    a turbine with isentropic efficiency eta.\"\"\"\n",
    "    h0 = fluid.enthalpy_mass()\n",
    "    s0 = fluid.entropy_mass()\n",
    "    fluid.set(S = s0, P = pfinal)\n",
    "    h1s = fluid.enthalpy_mass()\n",
    "    isentropic_work = h0 - h1s\n",
    "    actual_work = isentropic_work * eta\n",
    "    h1 = h0 - actual_work\n",
    "    fluid.set(H = h1, P = pfinal)\n",
    "    return actual_work\n"
   ]
  },
  {
   "cell_type": "code",
   "execution_count": 5,
   "id": "176539af-13fb-467a-b3d2-b6cdb431e2d3",
   "metadata": {},
   "outputs": [],
   "source": [
    "def rankine(t1, p2, eta_pump, eta_turbine):\n",
    "    # create an object representing water\n",
    "    w = Water()\n",
    "    # start with saturated liquid water at t1\n",
    "    w.set(T = t1, Vapor = 0.0)\n",
    "    h1 = w.enthalpy_mass()\n",
    "    # pump it adiabatically to p2\n",
    "    pump_work = pump(w, p2, eta_pump)\n",
    "    h2 = w.enthalpy_mass()\n",
    "    # heat to saturated vapor\n",
    "    w.set(P = p2, Vapor = 1.0)\n",
    "    h3 = w.enthalpy_mass()\n",
    "    heat_added = h3 - h2\n",
    "    # expand back to p1\n",
    "    turbine_work = expand(w, p1, eta_turbine)\n",
    "    work = turbine_work - pump_work\n",
    "    # compute the efficiency\n",
    "    efficiency = (turbine_work - pump_work)/heat_added\n",
    "    return [work, efficiency]\n"
   ]
  },
  {
   "cell_type": "code",
   "execution_count": 7,
   "id": "806ef313-6cc2-46d8-8d3b-37981902a140",
   "metadata": {},
   "outputs": [
    {
     "ename": "AttributeError",
     "evalue": "'function' object has no attribute 'enthalpy_mass'",
     "output_type": "error",
     "traceback": [
      "\u001b[1;31m---------------------------------------------------------------------------\u001b[0m",
      "\u001b[1;31mAttributeError\u001b[0m                            Traceback (most recent call last)",
      "\u001b[1;32m~\\AppData\\Local\\Temp/ipykernel_20084/1437197771.py\u001b[0m in \u001b[0;36m<module>\u001b[1;34m\u001b[0m\n\u001b[0;32m      2\u001b[0m \u001b[0mpfinal\u001b[0m \u001b[1;33m=\u001b[0m \u001b[1;36m15\u001b[0m\u001b[1;33m\u001b[0m\u001b[1;33m\u001b[0m\u001b[0m\n\u001b[0;32m      3\u001b[0m \u001b[0meta\u001b[0m \u001b[1;33m=\u001b[0m \u001b[1;36m0.7\u001b[0m\u001b[1;33m\u001b[0m\u001b[1;33m\u001b[0m\u001b[0m\n\u001b[1;32m----> 4\u001b[1;33m \u001b[0mpump\u001b[0m\u001b[1;33m(\u001b[0m\u001b[0mfluid\u001b[0m\u001b[1;33m,\u001b[0m \u001b[0mpfinal\u001b[0m\u001b[1;33m,\u001b[0m \u001b[0meta\u001b[0m\u001b[1;33m)\u001b[0m\u001b[1;33m\u001b[0m\u001b[1;33m\u001b[0m\u001b[0m\n\u001b[0m",
      "\u001b[1;32m~\\AppData\\Local\\Temp/ipykernel_20084/1505437999.py\u001b[0m in \u001b[0;36mpump\u001b[1;34m(fluid, pfinal, eta)\u001b[0m\n\u001b[0;32m      2\u001b[0m     \"\"\"Adiabatically pump a fluid to pressure pfinal, using\n\u001b[0;32m      3\u001b[0m     a pump with isentropic efficiency eta.\"\"\"\n\u001b[1;32m----> 4\u001b[1;33m     \u001b[0mh0\u001b[0m \u001b[1;33m=\u001b[0m \u001b[0mfluid\u001b[0m\u001b[1;33m.\u001b[0m\u001b[0menthalpy_mass\u001b[0m\u001b[1;33m(\u001b[0m\u001b[1;33m)\u001b[0m\u001b[1;33m\u001b[0m\u001b[1;33m\u001b[0m\u001b[0m\n\u001b[0m\u001b[0;32m      5\u001b[0m     \u001b[0ms0\u001b[0m \u001b[1;33m=\u001b[0m \u001b[0mfluid\u001b[0m\u001b[1;33m.\u001b[0m\u001b[0mentropy_mass\u001b[0m\u001b[1;33m(\u001b[0m\u001b[1;33m)\u001b[0m\u001b[1;33m\u001b[0m\u001b[1;33m\u001b[0m\u001b[0m\n\u001b[0;32m      6\u001b[0m     \u001b[0mfluid\u001b[0m\u001b[1;33m.\u001b[0m\u001b[0mset\u001b[0m\u001b[1;33m(\u001b[0m\u001b[0mS\u001b[0m \u001b[1;33m=\u001b[0m \u001b[0ms0\u001b[0m\u001b[1;33m,\u001b[0m \u001b[0mP\u001b[0m \u001b[1;33m=\u001b[0m \u001b[0mpfinal\u001b[0m\u001b[1;33m)\u001b[0m\u001b[1;33m\u001b[0m\u001b[1;33m\u001b[0m\u001b[0m\n",
      "\u001b[1;31mAttributeError\u001b[0m: 'function' object has no attribute 'enthalpy_mass'"
     ]
    }
   ],
   "source": [
    "fluid = Water\n",
    "pfinal = 15\n",
    "eta = 0.7\n",
    "pump(fluid, pfinal, eta)"
   ]
  },
  {
   "cell_type": "code",
   "execution_count": null,
   "id": "76795127-b107-4b2a-95e7-b1362b55617b",
   "metadata": {},
   "outputs": [],
   "source": []
  }
 ],
 "metadata": {
  "kernelspec": {
   "display_name": "Python 3 (ipykernel)",
   "language": "python",
   "name": "python3"
  },
  "language_info": {
   "codemirror_mode": {
    "name": "ipython",
    "version": 3
   },
   "file_extension": ".py",
   "mimetype": "text/x-python",
   "name": "python",
   "nbconvert_exporter": "python",
   "pygments_lexer": "ipython3",
   "version": "3.9.7"
  }
 },
 "nbformat": 4,
 "nbformat_minor": 5
}
