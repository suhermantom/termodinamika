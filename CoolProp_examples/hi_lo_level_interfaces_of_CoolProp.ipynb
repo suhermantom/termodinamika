{
 "cells": [
  {
   "cell_type": "markdown",
   "metadata": {},
   "source": [
    "This code is redo from this [CoolProp's level interfaces](https://tahircpe.github.io/CoolProp-CoolMethods/)\n",
    "\n",
    "## High-level interface\n",
    "The high-level interface offers an easy to use interface to get thermophysical properties. The high-level interface is provided using PropsSI function and it can be used to get properties for pure fluids, pseudo-pure fluids, and mixtures. PropsSI function is imported as follows:"
   ]
  },
  {
   "cell_type": "code",
   "execution_count": 1,
   "metadata": {},
   "outputs": [],
   "source": [
    "from CoolProp.CoolProp import PropsSI"
   ]
  },
  {
   "cell_type": "markdown",
   "metadata": {},
   "source": [
    "### Pure component properties\n",
    "Following examples showcase the use of PropsSI function to get pure component properties. The input format follows a generic template, a name of the parameter to be determined, followed by at least two of the state properties and the name of the component.\n",
    "\n",
    "All the inputs are in SI units\n",
    "\n",
    "Example:"
   ]
  },
  {
   "cell_type": "code",
   "execution_count": 17,
   "metadata": {},
   "outputs": [
    {
     "name": "stdout",
     "output_type": "stream",
     "text": [
      "Boiling point of ethanol at atm is 351.570 K\n"
     ]
    }
   ],
   "source": [
    "substance = 'Ethanol'\n",
    "p_atm = 101325 # bar, 1 atm = 101325 bar\n",
    "Tb = PropsSI('T', 'P', 101325, 'Q', 0, substance)\n",
    "print('Boiling point of ethanol at atm is {0:.3f} K'.format(Tb))"
   ]
  },
  {
   "cell_type": "code",
   "execution_count": 19,
   "metadata": {},
   "outputs": [
    {
     "name": "stdout",
     "output_type": "stream",
     "text": [
      "Boiling point of water at atm is 373.124 K.\n"
     ]
    }
   ],
   "source": [
    "substance = 'water'\n",
    "p_atm = 101325 # bar, 1 atm = 101325 bar\n",
    "Tb = PropsSI('T', 'P', 101325, 'Q', 0, substance)\n",
    "print('Boiling point of water at atm is {0:.3f} K.'.format(Tb))"
   ]
  },
  {
   "cell_type": "code",
   "execution_count": 20,
   "metadata": {},
   "outputs": [
    {
     "name": "stdout",
     "output_type": "stream",
     "text": [
      "Boiling point of water at atm is 247.076 K\n"
     ]
    }
   ],
   "source": [
    "substance = 'R134a'\n",
    "p_atm = 101325 # bar, 1 atm = 101325 bar\n",
    "Tb = PropsSI('T', 'P', 101325, 'Q', 0, substance)\n",
    "print('Boiling point of water at atm is {0:.3f} K'.format(Tb))"
   ]
  },
  {
   "cell_type": "code",
   "execution_count": 21,
   "metadata": {},
   "outputs": [
    {
     "name": "stdout",
     "output_type": "stream",
     "text": [
      "Boiling point of water at atm is 243.665 K\n"
     ]
    }
   ],
   "source": [
    "substance = 'R1234yf'\n",
    "p_atm = 101325 # bar, 1 atm = 101325 bar\n",
    "Tb = PropsSI('T', 'P', 101325, 'Q', 0, substance)\n",
    "print('Boiling point of water at atm is {0:.3f} K'.format(Tb))"
   ]
  },
  {
   "cell_type": "code",
   "execution_count": 23,
   "metadata": {},
   "outputs": [
    {
     "name": "stdout",
     "output_type": "stream",
     "text": [
      "Mass Density is 4.419 kg/m^3\n",
      "Molar Density is 38.750 mole/m^3\n"
     ]
    }
   ],
   "source": [
    "mass_D = PropsSI('Dmass', 'T', 320, 'P', p_atm, substance)\n",
    "print('Mass Density is {0:.3f} kg/m^3'.format(mass_D))\n",
    "mole_D = PropsSI('Dmolar', 'T', 320, 'P', p_atm, substance)\n",
    "print('Molar Density is {0:.3f} mole/m^3'.format(mole_D))"
   ]
  },
  {
   "cell_type": "markdown",
   "metadata": {},
   "source": [
    "### Mixture properties\n",
    "\n",
    "Mixtures require an additional input of compositions to completely define the thermodynamic state. The composition input is made using the following string format:\n",
    "\n",
    "`HESO::Name[Mole Fraction]&Name[Mole Fraction]&...`\n",
    "\n",
    "Component name and [mole fractions] combinations joined by ‘&’."
   ]
  },
  {
   "cell_type": "code",
   "execution_count": 26,
   "metadata": {},
   "outputs": [
    {
     "name": "stdout",
     "output_type": "stream",
     "text": [
      "Boiling point Ethanol-Water mixture 356.224 K\n"
     ]
    }
   ],
   "source": [
    "Tb = PropsSI('T', 'P', p_atm, 'Q', 0, 'HEOS::Ethanol[0.20]&Water[0.80]')\n",
    "print('Boiling point Ethanol-Water mixture {0:.3f} K'.format(Tb))"
   ]
  },
  {
   "cell_type": "markdown",
   "metadata": {},
   "source": [
    "Transport properties of Ethanol and Water mixture at 320 K and atmospheric pressure:"
   ]
  },
  {
   "cell_type": "code",
   "execution_count": 27,
   "metadata": {},
   "outputs": [
    {
     "name": "stdout",
     "output_type": "stream",
     "text": [
      "Dynamic viscosity of Ethanol/Water mixture 7.259e-04 Pa s\n",
      "Thermal conductivity of Ethanol/Water mixture 7.344e-01 W/m/K\n"
     ]
    }
   ],
   "source": [
    "composition = 'HEOS::Ethanol[0.20]&Water[0.80]'\n",
    "vis = PropsSI('V', 'T', 320, 'P', 101325, composition)\n",
    "print('Dynamic viscosity of Ethanol/Water mixture {0:.3e} Pa s'.format(vis))\n",
    "cond = PropsSI('L', 'T', 320, 'P', 101325, composition)\n",
    "print('Thermal conductivity of Ethanol/Water mixture {0:.3e} W/m/K'.format(cond))"
   ]
  },
  {
   "cell_type": "markdown",
   "metadata": {},
   "source": [
    "---------------------------------------------------"
   ]
  },
  {
   "cell_type": "markdown",
   "metadata": {},
   "source": [
    "## Low-level interface\n",
    "Low-level interface comes in handy when multiple property parameters are required. It works by defining a single system and its state and use keyed_output function to return paramter values. In principle, one can iterate over several parameter keys to get their values. The state of the system can be defined using any of the input_pairs.\n",
    "\n",
    "#### Example\n",
    "Following example illustrates the use of low-level interface to get multiple properties of Ethanol and Water mixture.\n",
    "\n",
    "Define the system:"
   ]
  },
  {
   "cell_type": "code",
   "execution_count": 29,
   "metadata": {},
   "outputs": [],
   "source": [
    "import CoolProp\n",
    "system_phase = \"HEOS\"\n",
    "mix_subs = 'Ethanol&Water'\n",
    "system = CoolProp.AbstractState(system_phase,mix_subs)"
   ]
  },
  {
   "cell_type": "markdown",
   "metadata": {},
   "source": [
    "Define the composition and the state, accordingly:"
   ]
  },
  {
   "cell_type": "code",
   "execution_count": 30,
   "metadata": {},
   "outputs": [],
   "source": [
    "system.set_mole_fractions([0.2,0.8])\n",
    "system.update(CoolProp.PT_INPUTS, p_atm, 320)"
   ]
  },
  {
   "cell_type": "markdown",
   "metadata": {},
   "source": [
    "Iterate over keyed_output to get multiple properties"
   ]
  },
  {
   "cell_type": "code",
   "execution_count": 31,
   "metadata": {},
   "outputs": [
    {
     "name": "stdout",
     "output_type": "stream",
     "text": [
      "Mass enthalpy\t69851.271\n",
      "\n",
      "Molar enthalpy\t1650.299\n",
      "\n",
      "Viscosity\t0.001\n",
      "\n",
      "Thermal conductivity\t0.734\n",
      "\n"
     ]
    }
   ],
   "source": [
    "names = ['Mass enthalpy', 'Molar enthalpy', 'Viscosity', 'Thermal conductivity'] \n",
    "parameters = [system.keyed_output(k) for k in [CoolProp.iHmass, CoolProp.iHmolar, CoolProp.iviscosity, CoolProp.iconductivity ]]\n",
    "\n",
    "for i in range(len(names)):\n",
    "    print(names[i]+ '\\t{0:0.3f}\\n'.format(parameters[i]))"
   ]
  },
  {
   "cell_type": "code",
   "execution_count": 37,
   "metadata": {},
   "outputs": [
    {
     "data": {
      "text/plain": [
       "['1-Butene',\n",
       " 'Acetone',\n",
       " 'Air',\n",
       " 'Ammonia',\n",
       " 'Argon',\n",
       " 'Benzene',\n",
       " 'CarbonDioxide',\n",
       " 'CarbonMonoxide',\n",
       " 'CarbonylSulfide',\n",
       " 'cis-2-Butene',\n",
       " 'CycloHexane',\n",
       " 'Cyclopentane',\n",
       " 'CycloPropane',\n",
       " 'D4',\n",
       " 'D5',\n",
       " 'D6',\n",
       " 'Deuterium',\n",
       " 'Dichloroethane',\n",
       " 'DiethylEther',\n",
       " 'DimethylCarbonate',\n",
       " 'DimethylEther',\n",
       " 'Ethane',\n",
       " 'Ethanol',\n",
       " 'EthylBenzene',\n",
       " 'Ethylene',\n",
       " 'EthyleneOxide',\n",
       " 'Fluorine',\n",
       " 'HeavyWater',\n",
       " 'Helium',\n",
       " 'HFE143m',\n",
       " 'Hydrogen',\n",
       " 'HydrogenChloride',\n",
       " 'HydrogenSulfide',\n",
       " 'IsoButane',\n",
       " 'IsoButene',\n",
       " 'Isohexane',\n",
       " 'Isopentane',\n",
       " 'Krypton',\n",
       " 'm-Xylene',\n",
       " 'MD2M',\n",
       " 'MD3M',\n",
       " 'MD4M',\n",
       " 'MDM',\n",
       " 'Methane',\n",
       " 'Methanol',\n",
       " 'MethylLinoleate',\n",
       " 'MethylLinolenate',\n",
       " 'MethylOleate',\n",
       " 'MethylPalmitate',\n",
       " 'MethylStearate',\n",
       " 'MM',\n",
       " 'n-Butane',\n",
       " 'n-Decane',\n",
       " 'n-Dodecane',\n",
       " 'n-Heptane',\n",
       " 'n-Hexane',\n",
       " 'n-Nonane',\n",
       " 'n-Octane',\n",
       " 'n-Pentane',\n",
       " 'n-Propane',\n",
       " 'n-Undecane',\n",
       " 'Neon',\n",
       " 'Neopentane',\n",
       " 'Nitrogen',\n",
       " 'NitrousOxide',\n",
       " 'Novec649',\n",
       " 'o-Xylene',\n",
       " 'OrthoDeuterium',\n",
       " 'OrthoHydrogen',\n",
       " 'Oxygen',\n",
       " 'p-Xylene',\n",
       " 'ParaDeuterium',\n",
       " 'ParaHydrogen',\n",
       " 'Propylene',\n",
       " 'Propyne',\n",
       " 'R11',\n",
       " 'R113',\n",
       " 'R114',\n",
       " 'R115',\n",
       " 'R116',\n",
       " 'R12',\n",
       " 'R123',\n",
       " 'R1233zd(E)',\n",
       " 'R1234yf',\n",
       " 'R1234ze(E)',\n",
       " 'R1234ze(Z)',\n",
       " 'R124',\n",
       " 'R1243zf',\n",
       " 'R125',\n",
       " 'R13',\n",
       " 'R134a',\n",
       " 'R13I1',\n",
       " 'R14',\n",
       " 'R141b',\n",
       " 'R142b',\n",
       " 'R143a',\n",
       " 'R152A',\n",
       " 'R161',\n",
       " 'R21',\n",
       " 'R218',\n",
       " 'R22',\n",
       " 'R227EA',\n",
       " 'R23',\n",
       " 'R236EA',\n",
       " 'R236FA',\n",
       " 'R245ca',\n",
       " 'R245fa',\n",
       " 'R32',\n",
       " 'R365MFC',\n",
       " 'R40',\n",
       " 'R404A',\n",
       " 'R407C',\n",
       " 'R41',\n",
       " 'R410A',\n",
       " 'R507A',\n",
       " 'RC318',\n",
       " 'SES36',\n",
       " 'SulfurDioxide',\n",
       " 'SulfurHexafluoride',\n",
       " 'Toluene',\n",
       " 'trans-2-Butene',\n",
       " 'Water',\n",
       " 'Xenon']"
      ]
     },
     "execution_count": 37,
     "metadata": {},
     "output_type": "execute_result"
    }
   ],
   "source": [
    "import CoolProp as CP\n",
    "CP.CoolProp.FluidsList()"
   ]
  },
  {
   "cell_type": "code",
   "execution_count": null,
   "metadata": {},
   "outputs": [],
   "source": []
  }
 ],
 "metadata": {
  "interpreter": {
   "hash": "57189c29131ad79733cdc51591db28cb486adddf055acefa31d75d87350d3e41"
  },
  "kernelspec": {
   "display_name": "Python 3.8.8 64-bit ('termo': conda)",
   "name": "python3"
  },
  "language_info": {
   "codemirror_mode": {
    "name": "ipython",
    "version": 3
   },
   "file_extension": ".py",
   "mimetype": "text/x-python",
   "name": "python",
   "nbconvert_exporter": "python",
   "pygments_lexer": "ipython3",
   "version": "3.8.8"
  },
  "orig_nbformat": 4
 },
 "nbformat": 4,
 "nbformat_minor": 2
}
