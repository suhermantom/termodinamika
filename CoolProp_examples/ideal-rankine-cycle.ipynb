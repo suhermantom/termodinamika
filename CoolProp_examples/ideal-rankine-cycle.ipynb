{
 "cells": [
  {
   "cell_type": "code",
   "execution_count": 4,
   "metadata": {
    "executionInfo": {
     "elapsed": 544,
     "status": "ok",
     "timestamp": 1614194886438,
     "user": {
      "displayName": "Mukhamad Suhermanto, S.Pd, M.Eng",
      "photoUrl": "",
      "userId": "00966700570926337399"
     },
     "user_tz": 300
    },
    "id": "b_17nrPbffPK"
   },
   "outputs": [],
   "source": [
    "import pyromat as pm\n",
    "\n",
    "mp_water = pm.get('mp.H2O')"
   ]
  },
  {
   "cell_type": "code",
   "execution_count": 9,
   "metadata": {
    "colab": {
     "base_uri": "https://localhost:8080/"
    },
    "executionInfo": {
     "elapsed": 599,
     "status": "ok",
     "timestamp": 1614195083761,
     "user": {
      "displayName": "Mukhamad Suhermanto, S.Pd, M.Eng",
      "photoUrl": "",
      "userId": "00966700570926337399"
     },
     "user_tz": 300
    },
    "id": "ny7RYQMjgU2Q",
    "outputId": "e620f802-d7dc-41c1-ff3e-e7cdef5fff4c"
   },
   "outputs": [
    {
     "name": "stdout",
     "output_type": "stream",
     "text": [
      "Work/Kerja yang dibutuhkan oleh pompa = 2.2 kJ/kg\n"
     ]
    }
   ],
   "source": [
    "# { PUMP }\n",
    "\n",
    "#sat liq, thus x = 0\n",
    "p1 = 10\n",
    "p2 = 2000\n",
    "v = 1/mp_water.ds(p=p1)[0]\n",
    "\n",
    "w_p = v* (p2-p1)\n",
    "print(f'Work/Kerja yang dibutuhkan oleh pompa = {round(float(w_p),1)} kJ/kg')"
   ]
  },
  {
   "cell_type": "code",
   "execution_count": null,
   "metadata": {
    "id": "SJZ59b1jhLTu"
   },
   "outputs": [],
   "source": []
  }
 ],
 "metadata": {
  "colab": {
   "authorship_tag": "ABX9TyNszogpP8LBgrdIrFXQFmau",
   "name": "ideal-rankine-cycle.ipynb",
   "provenance": []
  },
  "kernelspec": {
   "display_name": "Python 3",
   "language": "python",
   "name": "python3"
  },
  "language_info": {
   "codemirror_mode": {
    "name": "ipython",
    "version": 3
   },
   "file_extension": ".py",
   "mimetype": "text/x-python",
   "name": "python",
   "nbconvert_exporter": "python",
   "pygments_lexer": "ipython3",
   "version": "3.9.1"
  }
 },
 "nbformat": 4,
 "nbformat_minor": 4
}
